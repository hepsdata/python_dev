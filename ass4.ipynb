{
 "cells": [
  {
   "cell_type": "code",
   "execution_count": 780,
   "metadata": {},
   "outputs": [],
   "source": [
    "# 2022247016 디지털헬스케어학부 이동우\n",
    "# 문제 조건에 있는 NOTE를 주석을 통해 모두 명시\n",
    "\n",
    "import time\n",
    "import sys"
   ]
  },
  {
   "cell_type": "code",
   "execution_count": 781,
   "metadata": {},
   "outputs": [],
   "source": [
    "# NOTE 1: The input sequence is case-insensitive.\n",
    "def DNA_validation(sequence):\n",
    "    if not sequence: # exclude if set of the sequence is empty string ''\n",
    "        return False\n",
    "    else:\n",
    "        return set(sequence).issubset({'A', 'T', 'C', 'G', 'a', 't', 'c', 'g'})"
   ]
  },
  {
   "cell_type": "code",
   "execution_count": 782,
   "metadata": {},
   "outputs": [],
   "source": [
    "# multiple sequence extraction을 위해서, header, sequence data를 tuple 자료형으로 접근\n",
    "# 이 때, fasta format 및 dna Validation 작업을 거친다.\n",
    "def read_fasta_format(filename):\n",
    "    try:\n",
    "        with open(filename, \"r\") as f:\n",
    "            fasta_data = []\n",
    "            header = \"\"\n",
    "            seq = \"\"\n",
    "            isEmpty = True # empty flag\n",
    "\n",
    "            # file을 line마다 불러와서\n",
    "            for line in f:\n",
    "                isEmpty = False # input file is not empty\n",
    "                line = line.strip()\n",
    "                # print(line)\n",
    "                if line.startswith(\">\"):\n",
    "                    # print(line)\n",
    "                    if seq:\n",
    "                        fasta_data.append((header, seq))\n",
    "                        seq = \"\"\n",
    "\n",
    "                    header = line\n",
    "                else:\n",
    "                    seq += line\n",
    "            if seq:\n",
    "                fasta_data.append((header, seq))\n",
    "\n",
    "        if isEmpty : # NOTE 2: If the input file has nothing, then print \"No DNA sequence\".\n",
    "            print(\"No DNA sequence NOTE 2\")\n",
    "            return None\n",
    "\n",
    "        valid_fasta_data = [item for item in fasta_data if item[0] and (item[0][0] == '>' or not item[0][0])]\n",
    "        print(valid_fasta_data)\n",
    "        # NOTE 4: If the input file does not follow the FASTA format, then print \"No correct format\".\n",
    "        if len(valid_fasta_data) != len(fasta_data):\n",
    "            print(\"No correct format. NOTE 4\")\n",
    "            return None\n",
    "                \n",
    "        sequences = [seq for header, seq in fasta_data]\n",
    "\n",
    "        validated_sequences = []\n",
    "\n",
    "        for sequence in sequences:\n",
    "            if DNA_validation(sequence):\n",
    "                validated_sequences.append(sequence)\n",
    "            else: # NOTE 3: If the input file does not have DNA sequences, then print \"No DNA sequence\".\n",
    "                print(\"NO DNA sequence NOTE 3\")\n",
    "                return None\n",
    "        \n",
    "        # NOTE 6: If the input file has only one sequence, then print \"Need one more sequence\".\n",
    "        if len(validated_sequences) == 1:\n",
    "            print(\"Need one more sequence NOTE 6\")\n",
    "            return None\n",
    "        else:\n",
    "            return validated_sequences\n",
    "\n",
    "    except FileNotFoundError:\n",
    "        print(\"FileNotFoundError\") # File not found (NOTE에서 언급되지는 않았지만 구현)\n",
    "        return None"
   ]
  },
  {
   "cell_type": "code",
   "execution_count": 783,
   "metadata": {},
   "outputs": [],
   "source": [
    "# NOTE 5: If the input file has more than two sequences, then read the first two sequences.\n",
    "def read_first_two_sequence(seq_list):\n",
    "    return seq_list[0], seq_list[1]"
   ]
  },
  {
   "cell_type": "code",
   "execution_count": 784,
   "metadata": {},
   "outputs": [],
   "source": [
    "def longest_common_subsequence(seq1, seq2):\n",
    "    m, n = len(seq1), len(seq2)\n",
    "    # m*n 2D-grid 생성\n",
    "    grid = [[0] * (n + 1) for _ in range(m + 1)]\n",
    "    for i in range(1, m + 1):\n",
    "        for j in range(1, n + 1): # 모든 grid를 탐색\n",
    "            if seq1[i - 1] != seq2[j - 1]: \n",
    "                grid[i][j] = max(grid[i - 1][j], grid[i][j - 1])\n",
    "            else:\n",
    "                grid[i][j] = grid[i - 1][j - 1] + 1\n",
    "\n",
    "    lcs_list = []\n",
    "    i, j = m, n\n",
    "    while i > 0 and j > 0:\n",
    "        if seq1[i - 1] == seq2[j - 1]:\n",
    "            lcs_list.append(seq1[i - 1])\n",
    "            i -= 1\n",
    "            j -= 1\n",
    "        elif grid[i - 1][j] > grid[i][j - 1]:\n",
    "            i -= 1\n",
    "        else:\n",
    "            j -= 1\n",
    "    lcs = ''.join(lcs_list[::-1])\n",
    "    \n",
    "    return lcs"
   ]
  },
  {
   "cell_type": "code",
   "execution_count": 785,
   "metadata": {},
   "outputs": [],
   "source": [
    "def main(fname):\n",
    "    output = read_fasta_format(fname)\n",
    "    if output is None:\n",
    "        if len(sys.argv):\n",
    "            sys.exit(1)\n",
    "    \n",
    "    seq1, seq2 = read_first_two_sequence(output)\n",
    "    \n",
    "    start_time = time.time() # start\n",
    "    lcs = longest_common_subsequence(seq1, seq2)\n",
    "    elapsed_time = (time.time() - start_time) * 1000000 # end\n",
    "\n",
    "    with open(\"output4.txt\", \"w\") as f:\n",
    "        f.write(\"# Assignment4.py\\n\")\n",
    "        f.write(lcs)\n",
    "\n",
    "    print(f\"Elapsed time: {elapsed_time:.2f} microseconds\")"
   ]
  },
  {
   "cell_type": "code",
   "execution_count": 786,
   "metadata": {},
   "outputs": [
    {
     "name": "stdout",
     "output_type": "stream",
     "text": [
      "[('>Seq1 [organism=Carpodacus mexicanus] [clone=6b] actin (act) mRNA, partial cds', 'TAATAATTTTCTTTATAGTAATACCAATCATGATCGGTGGTTTCGGAAACTGACTAGTCCCACTCATAAT')]\n",
      "Need one more sequence NOTE 6\n"
     ]
    },
    {
     "ename": "SystemExit",
     "evalue": "1",
     "output_type": "error",
     "traceback": [
      "An exception has occurred, use %tb to see the full traceback.\n",
      "\u001b[0;31mSystemExit\u001b[0m\u001b[0;31m:\u001b[0m 1\n"
     ]
    }
   ],
   "source": [
    "if __name__ == \"__main__\":\n",
    "    # if len(sys.argv): # sys.argv를 입력받았음을 인식했을 때,\n",
    "    #     # if len(sys.argv) != 2:\n",
    "    #     #     sys.exit(1)\n",
    "    #     # filename = sys.argv[1]\n",
    "    filename = \"input.txt\" # \"input.fasta\"\n",
    "    main(filename)"
   ]
  },
  {
   "cell_type": "markdown",
   "metadata": {},
   "source": []
  }
 ],
 "metadata": {
  "kernelspec": {
   "display_name": "Python 3",
   "language": "python",
   "name": "python3"
  },
  "language_info": {
   "codemirror_mode": {
    "name": "ipython",
    "version": 3
   },
   "file_extension": ".py",
   "mimetype": "text/x-python",
   "name": "python",
   "nbconvert_exporter": "python",
   "pygments_lexer": "ipython3",
   "version": "3.11.2"
  },
  "orig_nbformat": 4
 },
 "nbformat": 4,
 "nbformat_minor": 2
}
